{
 "cells": [
  {
   "metadata": {},
   "cell_type": "markdown",
   "source": [
    "## Data Cleansing and Transformation\n",
    "\n",
    "* Pembersihan data,\n",
    "* penanganan data yang hilang,\n",
    "* dan penerapan teknik transformasi untuk mencapai format data yang diinginkan."
   ],
   "id": "3e1d371e6ae547ad"
  },
  {
   "cell_type": "code",
   "execution_count": null,
   "id": "initial_id",
   "metadata": {
    "collapsed": true
   },
   "outputs": [],
   "source": "# import modul\n"
  },
  {
   "metadata": {},
   "cell_type": "code",
   "outputs": [],
   "execution_count": null,
   "source": "# masukkan lokasi data yang digunakan \"traffic_crash dan traffic_crash_vehicle\n",
   "id": "3e918f1cc798fe8c"
  },
  {
   "metadata": {},
   "cell_type": "code",
   "outputs": [],
   "execution_count": null,
   "source": "# import data as dataframes",
   "id": "7edb729eaf2721df"
  },
  {
   "metadata": {},
   "cell_type": "markdown",
   "source": [
    "## Tugas Awal: Pentingnya Staging data\n",
    "Staging data (atau data staging) adalah tahap sementara dalam proses ETL (Extract, Transform, Load), di mana data mentah yang baru diambil dari sumbernya disimpan terlebih dahulu sebelum diproses lebih lanjut."
   ],
   "id": "a5309e9e8cda7eb5"
  },
  {
   "metadata": {},
   "cell_type": "code",
   "outputs": [],
   "execution_count": null,
   "source": "# tampilkan 10 data data traffic_crashes",
   "id": "289c7766de24e261"
  },
  {
   "metadata": {},
   "cell_type": "code",
   "outputs": [],
   "execution_count": null,
   "source": "# info data data traffic_crashes",
   "id": "d0bd6186e2903b96"
  },
  {
   "metadata": {},
   "cell_type": "code",
   "outputs": [],
   "execution_count": null,
   "source": "# jumlahkan data traffic_crashes yang null",
   "id": "fdc2d46ce601606c"
  },
  {
   "metadata": {},
   "cell_type": "code",
   "outputs": [],
   "execution_count": null,
   "source": "# hapus kolom data traffic_crashes yang bernilai null",
   "id": "f8a22fe3199b5ba7"
  },
  {
   "metadata": {},
   "cell_type": "code",
   "outputs": [],
   "execution_count": null,
   "source": "# \"Hapus baris yang memiliki kurang dari 2 nilai non-NaN, sehingga hanya baris dengan minimal 2 nilai non-NaN yang tetap ada.\"\n",
   "id": "4fc086b04cac17be"
  },
  {
   "metadata": {},
   "cell_type": "markdown",
   "source": [
    "# Missing Data\n",
    "report_type hanya mempunyai 2 isi, tampilkan dan ubah missing value menjadi \"ON ..... \""
   ],
   "id": "2eb8f88c4ffdce8d"
  },
  {
   "metadata": {},
   "cell_type": "code",
   "outputs": [],
   "execution_count": null,
   "source": "# periksa isi yang ada pada kolom report_type pada data crash",
   "id": "e735838a502a3e56"
  },
  {
   "metadata": {},
   "cell_type": "code",
   "outputs": [],
   "execution_count": null,
   "source": "# isi missing value dengan ddta \" ...........\"",
   "id": "968b89aee151df69"
  },
  {
   "metadata": {},
   "cell_type": "markdown",
   "source": "# Merging Data",
   "id": "fc6a550af3b26133"
  },
  {
   "metadata": {},
   "cell_type": "code",
   "outputs": [],
   "execution_count": null,
   "source": "# gabungkan dataframe crash dan vehicle",
   "id": "b83dcf8e91e814b3"
  },
  {
   "metadata": {},
   "cell_type": "code",
   "outputs": [],
   "execution_count": null,
   "source": "#tampilkan ukuran data",
   "id": "39bfc95889f805e5"
  },
  {
   "metadata": {},
   "cell_type": "code",
   "outputs": [],
   "execution_count": null,
   "source": "# tampilkan 5 sampel data",
   "id": "3bb1e58ac0606dd4"
  },
  {
   "metadata": {},
   "cell_type": "code",
   "outputs": [],
   "execution_count": null,
   "source": "#Kelompokkan data berdasarkan kolom vehicle_type, lalu hitung jumlah crash_record_id untuk masing-masing jenis kendaraan. Tampilkan hasilnya dalam bentuk DataFrame yang terstruktur, dengan index yang sudah di-reset dala variabel (df_agg).\n",
   "id": "ab26a7ed9fabd847"
  },
  {
   "metadata": {},
   "cell_type": "code",
   "outputs": [],
   "execution_count": null,
   "source": "# Dari DataFrame hasil agregasi (df_agg), ambillah jumlah total kecelakaan yang melibatkan kendaraan bertipe 'PASSENGER' dan simpan ke dalam variabel number_of_passenger_cars_involved.",
   "id": "bb080b77a1c1c0bd"
  },
  {
   "metadata": {},
   "cell_type": "markdown",
   "source": "# Mapping data target",
   "id": "4b3bd0aa348e59ac"
  },
  {
   "metadata": {},
   "cell_type": "code",
   "outputs": [],
   "execution_count": null,
   "source": "# ubah kolom 'vehicle_type'menjadi'vehicletypes'",
   "id": "856b51cc6ddc30e4"
  },
  {
   "metadata": {},
   "cell_type": "markdown",
   "source": [
    "# Fungsi Tranformasi\n",
    "Buat fungsi untuk transformasi dengan isi meliputi\n",
    "    # import data\n",
    "    # hilangkan missing value\n",
    "    # gabungkan data\n",
    "    # transformasi kolom yang sesuai"
   ],
   "id": "b8c4101569601665"
  },
  {
   "metadata": {},
   "cell_type": "code",
   "outputs": [],
   "execution_count": null,
   "source": [
    "#buat fungsi\n",
    "def tranform_data (crash_file,veliche_file) :\n",
    "\n",
    "\n",
    "\n",
    "\n",
    "\n",
    "    return df_gg"
   ],
   "id": "322d45ffece826f2"
  },
  {
   "metadata": {},
   "cell_type": "code",
   "outputs": [],
   "execution_count": null,
   "source": "# jalankan fungsi",
   "id": "a865947694fdd2e"
  },
  {
   "metadata": {},
   "cell_type": "markdown",
   "source": [
    "# Running the Workflow\n",
    "Kode sebelumnya dapat dibagi menjadi fungsi yang dapat digunakan kembali dan mudah dikelola\n",
    "1. fungsi untuk membaca data\n",
    "2. fungsi untuk menhapus baris dengan nilai null\n",
    "3. fungsi mengisi missing values\n",
    "4. Fungsi gabung  2 data\n",
    "5. fungsi rename kolom"
   ],
   "id": "9a4e7e34d95836df"
  },
  {
   "metadata": {},
   "cell_type": "code",
   "outputs": [],
   "execution_count": null,
   "source": "# 1. fungsi untuk membaca data",
   "id": "7bdce9d46a56bd6c"
  },
  {
   "metadata": {},
   "cell_type": "code",
   "outputs": [],
   "execution_count": null,
   "source": "# 2 fungsi untuk menhapus baris dengan nilai null",
   "id": "d230c9f93c056145"
  },
  {
   "metadata": {},
   "cell_type": "code",
   "outputs": [],
   "execution_count": null,
   "source": "# 3 fungsi mengisi missing value",
   "id": "acae9f913cac72b9"
  },
  {
   "metadata": {},
   "cell_type": "code",
   "outputs": [],
   "execution_count": null,
   "source": "# 4 Fungsi untung menggabungkan 2 data",
   "id": "d6a4148cba8af801"
  },
  {
   "metadata": {},
   "cell_type": "code",
   "outputs": [],
   "execution_count": null,
   "source": "# 5 Fungsi rename kolom",
   "id": "5f2fd8da51bdd76"
  },
  {
   "metadata": {},
   "cell_type": "markdown",
   "source": [
    "# Pipeline\n",
    "Buat fungsi Fungsi Pipeline untuk menjalankan Fungsi Pembersihan dan Transformasi\n",
    "1. pipeline baca data\n",
    "2. pipeline hapus baris null\n",
    "3. pipeline misssing values\n",
    "4. pipeline merge data"
   ],
   "id": "56ffeae8cc6a5dee"
  },
  {
   "metadata": {},
   "cell_type": "code",
   "outputs": [],
   "execution_count": null,
   "source": "# 1 pipeline",
   "id": "98bd49709104f8e9"
  },
  {
   "metadata": {},
   "cell_type": "code",
   "outputs": [],
   "execution_count": null,
   "source": "#",
   "id": "6f9abf55833dee6d"
  },
  {
   "metadata": {},
   "cell_type": "code",
   "outputs": [],
   "execution_count": null,
   "source": "",
   "id": "74670f5f56271af"
  },
  {
   "metadata": {},
   "cell_type": "code",
   "outputs": [],
   "execution_count": null,
   "source": "",
   "id": "b7c20258c10d2d1a"
  },
  {
   "metadata": {},
   "cell_type": "markdown",
   "source": "# Gunakan Data Lalu Lintas Chicago dan Jalankan Alur pipeline",
   "id": "9c1db7899e32d1ad"
  },
  {
   "metadata": {},
   "cell_type": "code",
   "outputs": [],
   "execution_count": null,
   "source": "",
   "id": "baf3802fd445d2f7"
  }
 ],
 "metadata": {
  "kernelspec": {
   "display_name": "Python 3",
   "language": "python",
   "name": "python3"
  },
  "language_info": {
   "codemirror_mode": {
    "name": "ipython",
    "version": 2
   },
   "file_extension": ".py",
   "mimetype": "text/x-python",
   "name": "python",
   "nbconvert_exporter": "python",
   "pygments_lexer": "ipython2",
   "version": "2.7.6"
  }
 },
 "nbformat": 4,
 "nbformat_minor": 5
}
