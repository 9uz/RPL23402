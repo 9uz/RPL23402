{
  "nbformat": 4,
  "nbformat_minor": 0,
  "metadata": {
    "colab": {
      "provenance": []
    },
    "kernelspec": {
      "name": "python3",
      "display_name": "Python 3"
    },
    "language_info": {
      "name": "python"
    }
  },
  "cells": [
    {
      "cell_type": "markdown",
      "source": [
        "# **Data Cleansing dan Tranformasi**"
      ],
      "metadata": {
        "id": "if9GTC4JUo2L"
      }
    },
    {
      "cell_type": "code",
      "execution_count": 2,
      "metadata": {
        "id": "86OdezoTUeHC"
      },
      "outputs": [],
      "source": [
        "import pandas as pd\n",
        "import logging"
      ]
    },
    {
      "cell_type": "code",
      "source": [
        "# baca data dari sumber\n",
        "def baca_datasource(lokasi_file):\n",
        "  df = pd.read_csv(lokasi_file)\n",
        "  return df\n",
        "\n",
        "# drop baris dengan nilai null\n",
        "def hapus_baris_kosong(df):\n",
        "  df.dropna(inplace=True)\n",
        "  return df\n",
        "\n",
        "# isi missing value\n",
        "def isi_missing_data(df):\n",
        "  df = df.fillna(0) # sesuaikan dengan kebutuhan\n",
        "  #.............................................\n",
        "  return df\n",
        "\n",
        "# merge data frame\n",
        "def merge_dataframe(df1, df2):\n",
        "  df = pd.merge(df1, df2, on='id') ## sesuaikan kondisi dengan data\n",
        "  return df\n",
        "\n",
        "# rename kolom sesuai kebutuhan\n",
        "def rename_kolom(df):\n",
        "  df.rename(columns={'nama_lama':'nama_baru','b':'bebek'}, inplace=True)\n",
        "  return df\n"
      ],
      "metadata": {
        "id": "_4IQkcRVVA-8"
      },
      "execution_count": 1,
      "outputs": []
    },
    {
      "cell_type": "markdown",
      "source": [
        "# Pipeline Baca Data\n",
        "\n"
      ],
      "metadata": {
        "id": "GWAf2TVWX2CX"
      }
    },
    {
      "cell_type": "code",
      "source": [
        "def pipeline_baca_data(file1,file2):\n",
        "  df1= pd.DataFrame()\n",
        "  df2= pd.DataFrame()\n",
        "  try :\n",
        "    df1 = baca_datasource(file1)\n",
        "    df2 = baca_datasource(file2)\n",
        "  except Exception as e:\n",
        "    logging.info(\"Pipeline reading data error\"+e)\n",
        "  finally:\n",
        "    return df1,df2\n"
      ],
      "metadata": {
        "id": "tpTikRkSX8Pl"
      },
      "execution_count": null,
      "outputs": []
    }
  ]
}